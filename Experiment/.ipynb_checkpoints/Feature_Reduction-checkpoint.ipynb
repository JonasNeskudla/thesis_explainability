{
 "cells": [
  {
   "cell_type": "code",
   "execution_count": 2,
   "metadata": {},
   "outputs": [],
   "source": [
    "import numpy as np\n",
    "import pandas as pd\n",
    "import shap\n",
    "import math\n",
    "import xgboost as xgb\n",
    "from skmultiflow.data.data_stream import DataStream\n",
    "from sklearn.metrics import precision_recall_fscore_support, roc_auc_score, matthews_corrcoef, accuracy_score\n",
    "from scipy.io import arff"
   ]
  },
  {
   "cell_type": "markdown",
   "metadata": {},
   "source": [
    "## Perform feature reduction based on Shapley Values"
   ]
  },
  {
   "cell_type": "code",
   "execution_count": 3,
   "metadata": {},
   "outputs": [
    {
     "data": {
      "text/html": [
       "<div>\n",
       "<style scoped>\n",
       "    .dataframe tbody tr th:only-of-type {\n",
       "        vertical-align: middle;\n",
       "    }\n",
       "\n",
       "    .dataframe tbody tr th {\n",
       "        vertical-align: top;\n",
       "    }\n",
       "\n",
       "    .dataframe thead th {\n",
       "        text-align: right;\n",
       "    }\n",
       "</style>\n",
       "<table border=\"1\" class=\"dataframe\">\n",
       "  <thead>\n",
       "    <tr style=\"text-align: right;\">\n",
       "      <th></th>\n",
       "      <th>Att1</th>\n",
       "      <th>Att2</th>\n",
       "      <th>Att3</th>\n",
       "      <th>Att4</th>\n",
       "      <th>Att5</th>\n",
       "      <th>Att6</th>\n",
       "      <th>Att7</th>\n",
       "      <th>Att8</th>\n",
       "      <th>Att9</th>\n",
       "      <th>Att10</th>\n",
       "      <th>...</th>\n",
       "      <th>Att25</th>\n",
       "      <th>Att26</th>\n",
       "      <th>Att27</th>\n",
       "      <th>Att28</th>\n",
       "      <th>Att29</th>\n",
       "      <th>Att30</th>\n",
       "      <th>Att31</th>\n",
       "      <th>Att32</th>\n",
       "      <th>Att33</th>\n",
       "      <th>label</th>\n",
       "    </tr>\n",
       "  </thead>\n",
       "  <tbody>\n",
       "    <tr>\n",
       "      <th>0</th>\n",
       "      <td>0.104786</td>\n",
       "      <td>0.177437</td>\n",
       "      <td>0.127348</td>\n",
       "      <td>0.166377</td>\n",
       "      <td>0.173653</td>\n",
       "      <td>0.210802</td>\n",
       "      <td>0.110593</td>\n",
       "      <td>0.112789</td>\n",
       "      <td>0.119592</td>\n",
       "      <td>0.097037</td>\n",
       "      <td>...</td>\n",
       "      <td>0.044745</td>\n",
       "      <td>0.012664</td>\n",
       "      <td>0.019215</td>\n",
       "      <td>0.033919</td>\n",
       "      <td>0.041030</td>\n",
       "      <td>0.078895</td>\n",
       "      <td>0.047801</td>\n",
       "      <td>0.056905</td>\n",
       "      <td>0.042594</td>\n",
       "      <td>0</td>\n",
       "    </tr>\n",
       "    <tr>\n",
       "      <th>1</th>\n",
       "      <td>0.222615</td>\n",
       "      <td>0.082908</td>\n",
       "      <td>0.012211</td>\n",
       "      <td>0.132240</td>\n",
       "      <td>0.158171</td>\n",
       "      <td>0.114506</td>\n",
       "      <td>0.089346</td>\n",
       "      <td>0.107228</td>\n",
       "      <td>0.147048</td>\n",
       "      <td>0.094347</td>\n",
       "      <td>...</td>\n",
       "      <td>0.055497</td>\n",
       "      <td>0.026038</td>\n",
       "      <td>0.025214</td>\n",
       "      <td>0.035499</td>\n",
       "      <td>0.026753</td>\n",
       "      <td>0.046010</td>\n",
       "      <td>0.043288</td>\n",
       "      <td>0.025842</td>\n",
       "      <td>0.035629</td>\n",
       "      <td>0</td>\n",
       "    </tr>\n",
       "    <tr>\n",
       "      <th>2</th>\n",
       "      <td>0.191783</td>\n",
       "      <td>0.316429</td>\n",
       "      <td>0.221004</td>\n",
       "      <td>0.298153</td>\n",
       "      <td>0.367791</td>\n",
       "      <td>0.357252</td>\n",
       "      <td>0.266188</td>\n",
       "      <td>0.005467</td>\n",
       "      <td>0.022786</td>\n",
       "      <td>0.040412</td>\n",
       "      <td>...</td>\n",
       "      <td>0.006443</td>\n",
       "      <td>0.010801</td>\n",
       "      <td>0.007107</td>\n",
       "      <td>0.004875</td>\n",
       "      <td>0.003229</td>\n",
       "      <td>0.006719</td>\n",
       "      <td>0.007591</td>\n",
       "      <td>0.019423</td>\n",
       "      <td>0.055560</td>\n",
       "      <td>1</td>\n",
       "    </tr>\n",
       "    <tr>\n",
       "      <th>3</th>\n",
       "      <td>0.106044</td>\n",
       "      <td>0.188385</td>\n",
       "      <td>0.139068</td>\n",
       "      <td>0.183759</td>\n",
       "      <td>0.001392</td>\n",
       "      <td>0.125598</td>\n",
       "      <td>0.117964</td>\n",
       "      <td>0.103110</td>\n",
       "      <td>0.088212</td>\n",
       "      <td>0.071891</td>\n",
       "      <td>...</td>\n",
       "      <td>0.030993</td>\n",
       "      <td>0.009889</td>\n",
       "      <td>0.010659</td>\n",
       "      <td>0.014419</td>\n",
       "      <td>0.011395</td>\n",
       "      <td>0.024807</td>\n",
       "      <td>0.021067</td>\n",
       "      <td>0.038479</td>\n",
       "      <td>0.041440</td>\n",
       "      <td>0</td>\n",
       "    </tr>\n",
       "    <tr>\n",
       "      <th>4</th>\n",
       "      <td>0.102941</td>\n",
       "      <td>0.169156</td>\n",
       "      <td>0.122622</td>\n",
       "      <td>0.166684</td>\n",
       "      <td>0.206373</td>\n",
       "      <td>0.249206</td>\n",
       "      <td>0.154802</td>\n",
       "      <td>0.335912</td>\n",
       "      <td>0.371870</td>\n",
       "      <td>0.163826</td>\n",
       "      <td>...</td>\n",
       "      <td>0.056908</td>\n",
       "      <td>0.016429</td>\n",
       "      <td>0.014142</td>\n",
       "      <td>0.089209</td>\n",
       "      <td>0.154863</td>\n",
       "      <td>0.172861</td>\n",
       "      <td>0.052296</td>\n",
       "      <td>0.029528</td>\n",
       "      <td>0.030566</td>\n",
       "      <td>0</td>\n",
       "    </tr>\n",
       "  </tbody>\n",
       "</table>\n",
       "<p>5 rows × 34 columns</p>\n",
       "</div>"
      ],
      "text/plain": [
       "       Att1      Att2      Att3      Att4      Att5      Att6      Att7  \\\n",
       "0  0.104786  0.177437  0.127348  0.166377  0.173653  0.210802  0.110593   \n",
       "1  0.222615  0.082908  0.012211  0.132240  0.158171  0.114506  0.089346   \n",
       "2  0.191783  0.316429  0.221004  0.298153  0.367791  0.357252  0.266188   \n",
       "3  0.106044  0.188385  0.139068  0.183759  0.001392  0.125598  0.117964   \n",
       "4  0.102941  0.169156  0.122622  0.166684  0.206373  0.249206  0.154802   \n",
       "\n",
       "       Att8      Att9     Att10  ...     Att25     Att26     Att27     Att28  \\\n",
       "0  0.112789  0.119592  0.097037  ...  0.044745  0.012664  0.019215  0.033919   \n",
       "1  0.107228  0.147048  0.094347  ...  0.055497  0.026038  0.025214  0.035499   \n",
       "2  0.005467  0.022786  0.040412  ...  0.006443  0.010801  0.007107  0.004875   \n",
       "3  0.103110  0.088212  0.071891  ...  0.030993  0.009889  0.010659  0.014419   \n",
       "4  0.335912  0.371870  0.163826  ...  0.056908  0.016429  0.014142  0.089209   \n",
       "\n",
       "      Att29     Att30     Att31     Att32     Att33  label  \n",
       "0  0.041030  0.078895  0.047801  0.056905  0.042594      0  \n",
       "1  0.026753  0.046010  0.043288  0.025842  0.035629      0  \n",
       "2  0.003229  0.006719  0.007591  0.019423  0.055560      1  \n",
       "3  0.011395  0.024807  0.021067  0.038479  0.041440      0  \n",
       "4  0.154863  0.172861  0.052296  0.029528  0.030566      0  \n",
       "\n",
       "[5 rows x 34 columns]"
      ]
     },
     "execution_count": 3,
     "metadata": {},
     "output_type": "execute_result"
    }
   ],
   "source": [
    "data = pd.read_csv(\"./Data_prep/insects_inc_abrupt_train_test.csv\")\n",
    "d = data\n",
    "data.head()"
   ]
  },
  {
   "cell_type": "code",
   "execution_count": null,
   "metadata": {},
   "outputs": [
    {
     "name": "stdout",
     "output_type": "stream",
     "text": [
      "Accuracy on test set:  0.40148972850619186\n"
     ]
    }
   ],
   "source": [
    "# train a model on the initial training set and predict all remaining instances\n",
    "initial_batch_size = math.trunc(0.05*len(d))   \n",
    "stream = DataStream(data = d, allow_nan = True)\n",
    "x_train, y_train = stream.next_sample(initial_batch_size)\n",
    "x_test, y_test = stream.next_sample(stream.n_remaining_samples())\n",
    "\n",
    "clf = xgb.XGBClassifier(objective = 'multi:softprob', num_class = 6)\n",
    "clf.fit(x_train, y_train)\n",
    "print('Accuracy on test set: ',accuracy_score(y_test, clf.predict(x_test)))"
   ]
  },
  {
   "cell_type": "code",
   "execution_count": 61,
   "metadata": {},
   "outputs": [
    {
     "data": {
      "text/plain": [
       "XGBClassifier(base_score=0.5, booster='gbtree', colsample_bylevel=1,\n",
       "              colsample_bynode=1, colsample_bytree=1, gamma=0, gpu_id=-1,\n",
       "              importance_type='gain', interaction_constraints='',\n",
       "              learning_rate=0.300000012, max_delta_step=0, max_depth=6,\n",
       "              min_child_weight=1, missing=nan, monotone_constraints='()',\n",
       "              n_estimators=100, n_jobs=0, num_class=6, num_parallel_tree=1,\n",
       "              objective='multi:softprob', random_state=0, reg_alpha=0,\n",
       "              reg_lambda=1, scale_pos_weight=None, subsample=1,\n",
       "              tree_method='exact', validate_parameters=1, verbosity=None)"
      ]
     },
     "execution_count": 61,
     "metadata": {},
     "output_type": "execute_result"
    }
   ],
   "source": [
    "# trainiere auf initial batch, erkläre initial/ den Rest\n",
    "stream = DataStream(data = d, allow_nan = True)\n",
    "x_train, y_train = stream.next_sample(initial_batch_size)\n",
    "x_test, y_test = stream.next_sample(stream.n_remaining_samples())\n",
    "\n",
    "clf = xgb.XGBClassifier(objective = 'multi:softprob', num_class = 6)\n",
    "clf.fit(x_train, y_train)"
   ]
  },
  {
   "cell_type": "code",
   "execution_count": 62,
   "metadata": {},
   "outputs": [],
   "source": [
    "cols = d.columns.tolist()[:-1]"
   ]
  },
  {
   "cell_type": "code",
   "execution_count": 63,
   "metadata": {},
   "outputs": [
    {
     "data": {
      "image/png": "[encoded data removed]",
      "text/plain": [
       "<Figure size 576x684 with 1 Axes>"
      ]
     },
     "metadata": {
      "needs_background": "light"
     },
     "output_type": "display_data"
    }
   ],
   "source": [
    "explainer=shap.TreeExplainer(clf, feature_perturbation = \"tree_path_dependent\")\n",
    "shap_values = explainer.shap_values(d.iloc[:,:-1])\n",
    "shap.summary_plot(shap_values, x_train, plot_type=\"bar\", feature_names=cols)"
   ]
  },
  {
   "cell_type": "code",
   "execution_count": 64,
   "metadata": {},
   "outputs": [],
   "source": [
    "#d = data.drop(columns=['Att5','Att6','Att8','Att10','Att11','Att12','Att13','Att14','Att15','Att25','Att31','Att32','Att33'])#only unimportant missing features from plot, based on \"explain(x_train)\" --> Insects_abrupt\n",
    "#d = data.drop(columns=['Att1','Att6','Att9','Att10','Att11','Att12','Att13','Att14','Att24','Att25','Att28','Att31','Att33']) #only unimportant missing features from plot, based on \"explain(x_train)\" --> Insects_incremental\n",
    "#d = data.drop(columns=['Att5','Att9','Att10','Att11','Att12','Att13','Att14','Att19','Att23','Att24','Att29','Att31','Att33']) #only unimportant missing features from plot, based on \"explain(x_train)\" --> Insects_abrupt_incremental"
   ]
  },
  {
   "cell_type": "code",
   "execution_count": 65,
   "metadata": {},
   "outputs": [
    {
     "name": "stdout",
     "output_type": "stream",
     "text": [
      "75987\n",
      "Accuracy on test set:  0.39734428257465093\n",
      "Accuracy on train set:  0.7836996474383017\n"
     ]
    }
   ],
   "source": [
    "# trainiere auf initial, predicte den rest\n",
    "initial_batch_size = math.trunc(0.05*len(d))   \n",
    "stream = DataStream(data = d, allow_nan = True)\n",
    "x_train, y_train = stream.next_sample(initial_batch_size)\n",
    "\n",
    "x_test, y_test = stream.next_sample(stream.n_remaining_samples())\n",
    "print(len(x_test))\n",
    "\n",
    "clf = xgb.XGBClassifier(objective = 'multi:softprob', num_class = 6)\n",
    "clf.fit(x_train, y_train)\n",
    "\n",
    "print('Accuracy on test set: ',accuracy_score(y_test, clf.predict(x_test)))"
   ]
  }
 ],
 "metadata": {
  "kernelspec": {
   "display_name": "Python 3",
   "language": "python",
   "name": "python3"
  },
  "language_info": {
   "codemirror_mode": {
    "name": "ipython",
    "version": 3
   },
   "file_extension": ".py",
   "mimetype": "text/x-python",
   "name": "python",
   "nbconvert_exporter": "python",
   "pygments_lexer": "ipython3",
   "version": "3.8.3"
  }
 },
 "nbformat": 4,
 "nbformat_minor": 4
}

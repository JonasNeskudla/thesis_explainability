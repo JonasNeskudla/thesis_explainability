{
 "cells": [
  {
   "cell_type": "code",
   "execution_count": 18,
   "metadata": {},
   "outputs": [],
   "source": [
    "import pickle\n",
    "import numpy as np\n",
    "from importnb import Notebook\n",
    "\n",
    "\n",
    "'''\n",
    "Objects, which are used here as an example, were created with the class \"Backend\". \n",
    "The subsequent division into 'Backend' and 'Backend_roc' for multiclass scenarios was\n",
    "not yet available at this time, which is why 'Backend' is imported from the \n",
    "'SHAP_approach_synthetic_data' folder here, although this exemplary objects represent a real-world scenario.\n",
    "'''\n",
    "ShapDetectorClass = Notebook.load('./SHAP_approach_synthetic_data/Backend.ipynb')\n",
    "ShapDetector = ShapDetectorClass.ShapDetector"
   ]
  },
  {
   "cell_type": "markdown",
   "metadata": {},
   "source": [
    "### Compute metrics for object with reduced set of featues"
   ]
  },
  {
   "cell_type": "code",
   "execution_count": 27,
   "metadata": {},
   "outputs": [],
   "source": [
    "# load object with reduced set of features\n",
    "d_reduced = pickle.load( open( \"./Results/Detector_objs/Test_Insects_abrupt_red/2020_11_05_02_00_58_758.pickle\", \"rb\" ) ) # 2020_11_01_17_16_23_562.pickle originates from \n",
    "dist_list_reduced = d_reduced.distances\n",
    "acc_list_reduced = d_reduced.score_list\n",
    "\n",
    "window = 50\n",
    "\n",
    "# compute bins\n",
    "dist_list_reduced_c = []\n",
    "for i,idx in enumerate(dist_list_reduced):\n",
    "    if i%window != 0:\n",
    "        dist_list_reduced_c.append(np.mean(dist_list_reduced[i-window:i]))\n",
    "        \n",
    "acc_list_reduced_c = []\n",
    "for i,idx in enumerate(acc_list_reduced):\n",
    "    if i%window != 0:\n",
    "        acc_list_reduced_c.append(np.mean(acc_list_reduced[i-window:i]))\n",
    "\n",
    "acc_list_reduced_c = acc_list_reduced_c[window-1:]\n",
    "dist_list_reduced_c = dist_list_reduced_c[window-1:]"
   ]
  },
  {
   "cell_type": "code",
   "execution_count": 20,
   "metadata": {},
   "outputs": [
    {
     "name": "stdout",
     "output_type": "stream",
     "text": [
      "mean acc list 0.5634784687089193\n",
      "std dist list 0.10753451243704895\n",
      "var dist list 0.011563671365073835\n",
      "[[ 1.         -0.01816091]\n",
      " [-0.01816091  1.        ]]\n"
     ]
    }
   ],
   "source": [
    "print('mean acc list', np.mean(acc_list_reduced))\n",
    "print('std dist list', np.std(dist_list_reduced))\n",
    "print('var dist list', np.var(dist_list_reduced))\n",
    "print(np.corrcoef(dist_list_reduced,acc_list_reduced, 'valid'))"
   ]
  },
  {
   "cell_type": "markdown",
   "metadata": {},
   "source": [
    "#### Compute metrics for data compressed in bins "
   ]
  },
  {
   "cell_type": "code",
   "execution_count": 21,
   "metadata": {},
   "outputs": [
    {
     "name": "stdout",
     "output_type": "stream",
     "text": [
      "mean acc list c 0.5636592610677084\n",
      "std dist list c 0.028201857115179398\n",
      "var dist list c 0.0007953447447449949\n",
      "\n",
      "correlation \n",
      " [[ 1.         -0.20891617]\n",
      " [-0.20891617  1.        ]]\n"
     ]
    }
   ],
   "source": [
    "print('mean acc list c', np.mean(acc_list_reduced_c))\n",
    "print('std dist list c', np.std(dist_list_reduced_c))\n",
    "print('var dist list c', np.var(dist_list_reduced_c))\n",
    "print()\n",
    "print('correlation \\n', np.corrcoef(dist_list_reduced_c,acc_list_reduced_c, 'valid'))"
   ]
  },
  {
   "cell_type": "markdown",
   "metadata": {},
   "source": [
    "---\n",
    "### Compute metrics for object with the full set of featues"
   ]
  },
  {
   "cell_type": "code",
   "execution_count": 26,
   "metadata": {},
   "outputs": [],
   "source": [
    "# load object with the full set of features\n",
    "d_all = pickle.load( open( \"./Results/Detector_objs/check_correlation/Insects_abrupt_bal_no_retraining.pickle\", \"rb\" ) )\n",
    "dist_list_all = d_all.distances\n",
    "acc_list_all = d_all.score_list\n",
    "\n",
    "window = 50\n",
    "\n",
    "# compute bins\n",
    "dist_list_all_c = []\n",
    "for i,idx in enumerate(dist_list_all):\n",
    "    if i%window != 0:\n",
    "        dist_list_all_c.append(np.mean(dist_list_all[i-window:i]))\n",
    "\n",
    "acc_list_all_c = []\n",
    "for i,idx in enumerate(acc_list_all):\n",
    "    if i%window != 0:\n",
    "        acc_list_all_c.append(np.mean(acc_list_all[i-window:i]))\n",
    "\n",
    "acc_list_all_c = acc_list_all_c[window-1:]\n",
    "dist_list_all_c = dist_list_all_c[window-1:]"
   ]
  },
  {
   "cell_type": "code",
   "execution_count": 23,
   "metadata": {},
   "outputs": [
    {
     "name": "stdout",
     "output_type": "stream",
     "text": [
      "mean acc list 0.568696968489822\n",
      "std dist list 0.09262318101350084\n",
      "var dist list 0.008579053661059741\n",
      "[[1.         0.03941434]\n",
      " [0.03941434 1.        ]]\n"
     ]
    }
   ],
   "source": [
    "print('mean acc list', np.mean(acc_list_all))\n",
    "print('std dist list', np.std(dist_list_all))\n",
    "print('var dist list', np.var(dist_list_all))\n",
    "print(np.corrcoef(dist_list_all,acc_list_all, 'valid'))"
   ]
  },
  {
   "cell_type": "markdown",
   "metadata": {},
   "source": [
    "#### Compute metrics for data compressed in bins"
   ]
  },
  {
   "cell_type": "code",
   "execution_count": 24,
   "metadata": {},
   "outputs": [
    {
     "name": "stdout",
     "output_type": "stream",
     "text": [
      "mean acc list c 0.568916015625\n",
      "std dist list c 0.02012450279447859\n",
      "var dist list c 0.0004049956127249765\n",
      "\n",
      "correlation \n",
      " [[ 1.         -0.14423613]\n",
      " [-0.14423613  1.        ]]\n"
     ]
    }
   ],
   "source": [
    "print('mean acc list c', np.mean(acc_list_all_c))\n",
    "print('std dist list c', np.std(dist_list_all_c))\n",
    "print('var dist list c', np.var(dist_list_all_c))\n",
    "print()\n",
    "print('correlation \\n', np.corrcoef(dist_list_all_c,acc_list_all_c, 'valid'))"
   ]
  }
 ],
 "metadata": {
  "kernelspec": {
   "display_name": "Python 3",
   "language": "python",
   "name": "python3"
  },
  "language_info": {
   "codemirror_mode": {
    "name": "ipython",
    "version": 3
   },
   "file_extension": ".py",
   "mimetype": "text/x-python",
   "name": "python",
   "nbconvert_exporter": "python",
   "pygments_lexer": "ipython3",
   "version": "3.8.3"
  },
  "pycharm": {
   "stem_cell": {
    "cell_type": "raw",
    "source": [],
    "metadata": {
     "collapsed": false
    }
   }
  }
 },
 "nbformat": 4,
 "nbformat_minor": 4
}
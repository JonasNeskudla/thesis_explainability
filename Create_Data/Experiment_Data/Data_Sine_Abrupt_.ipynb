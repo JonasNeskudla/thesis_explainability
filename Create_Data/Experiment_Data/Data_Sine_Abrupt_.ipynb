{
 "cells": [
  {
   "cell_type": "markdown",
   "metadata": {},
   "source": [
    "## Sine - Abrupt"
   ]
  },
  {
   "cell_type": "markdown",
   "metadata": {},
   "source": [
    "### Note\n",
    "\n",
    "#### Original definition of SINE dataset \n",
    "- SINE1: Abrupt concept drift, noise-free examples. The dataset has two relevant attributes. Each attribute has values uniformly distributed in [0, 1]. In the ﬁrst context all points below the curve y = sin(x) are classiﬁed as positive. After the context change the classiﬁcation is reversed. [1, 2]\n",
    "\n",
    "To validate our approach we need drift in the data itself (virtual drift). For this purpose we have to modify the original data from the literature, but only as far as it is absolutely necessary. The original basic data distribution between the drifts, the selection of relevant features and the classification function are adopted.\n",
    "\n",
    "#### Drifts, we have induced manually\n",
    "- Drift1: x1 and x2 now np.random.uniform(-1,1) and reverse classification function\n",
    "- Drift2: x1 and x2 now np.random.uniform(-0.5,0.5) and reverse classification function\n",
    "- Drift3: x1 and x2 now np.random.uniform(-1,0) and reverse classification function\n",
    "\n",
    "#### Validation set\n",
    "We do not want to determine the optimal parameters for our approach on the same data set we are testing on. In this way we want to avoid \"overfitting\". For this reason we create a validation set. The data distribution of the validation set is created according to the same rules as the test set. Finally, a randomly selected drift from the test set is taken from the test set into the validation set to determine the parameters for our detector.\n",
    "- size of data set: 20000\n",
    "- train on 5%: 1000\n",
    "- validate on 10%: 2000\n",
    "- test on 85%: 17000\n",
    "\n",
    "The validation set and test set are containing the same 1000 instances for the initial training step.\n",
    "\n",
    "\n",
    "[1]: Gama, J., Medas, P., Castillo, G., & Rodrigues, P. (2004). Learning with drift detection. Lecture Notes in Computer Science (Including Subseries Lecture Notes in Artificial Intelligence and Lecture Notes in Bioinformatics), 3171(May 2014), 286–295. https://doi.org/10.1007/978-3-540-28645-5_29\n",
    "\n",
    "[2]: Kubat, M., & Widmer, G. (1995). Adapting to drift in continuous domains (Extended abstract). Lecture Notes in Computer Science (Including Subseries Lecture Notes in Artificial Intelligence and Lecture Notes in Bioinformatics), 912, 307–310. https://doi.org/10.1007/3-540-59286-5_74"
   ]
  },
  {
   "cell_type": "code",
   "execution_count": 1,
   "metadata": {
    "pycharm": {
     "is_executing": false
    }
   },
   "outputs": [],
   "source": [
    "import numpy as np\n",
    "import pandas as pd\n",
    "from sklearn import preprocessing\n",
    "np.random.seed(10)"
   ]
  },
  {
   "cell_type": "code",
   "execution_count": 2,
   "metadata": {
    "pycharm": {
     "is_executing": false
    }
   },
   "outputs": [],
   "source": [
    "x1 = np.random.uniform(0,1,20000)\n",
    "x2 = np.random.uniform(0,1,20000)\n",
    "x3 = np.random.uniform(0,1,20000)\n",
    "x4 = np.random.uniform(0,1,20000)\n",
    "y= np.where(x2 < np.sin(x1), np.ones(20000, dtype=np.int8), np.zeros(20000, dtype=np.int8))"
   ]
  },
  {
   "cell_type": "code",
   "execution_count": 3,
   "metadata": {
    "pycharm": {
     "is_executing": false
    }
   },
   "outputs": [],
   "source": [
    "# Drift 1\n",
    "x1[5000:7500] = np.random.uniform(-1,1,2500)\n",
    "x2[5000:7500] = np.random.uniform(-1,1,2500)\n",
    "y[5000:7500] = np.where(x2[5000:7500] > np.sin(x1[5000:7500]), np.ones(2500, dtype=np.int8), np.zeros(2500, dtype=np.int8))\n",
    "\n",
    "# Drift 2\n",
    "x1[10000:12500] = np.random.uniform(-0.5,0.5,2500)\n",
    "x2[10000:12500] = np.random.uniform(-0.5,0.5,2500)\n",
    "y[10000:12500]= np.where(x2[10000:12500] < np.sin(x1[10000:12500]), np.ones(2500, dtype=np.int8), np.zeros(2500, dtype=np.int8))\n",
    "\n",
    "# Drift 3\n",
    "x1[15000:17500]=np.random.uniform(-1,0,2500)\n",
    "x2[15000:17500]=np.random.uniform(-1,0,2500)\n",
    "y[15000:17500]= np.where(x2[15000:17500] > np.sin(x1[15000:17500]), np.ones(2500, dtype=np.int8), np.zeros(2500, dtype=np.int8))"
   ]
  },
  {
   "cell_type": "code",
   "execution_count": 4,
   "metadata": {
    "pycharm": {
     "is_executing": false
    }
   },
   "outputs": [],
   "source": [
    "data = pd.DataFrame([x1,x2,x3,x4,y]).transpose()\n",
    "data.columns = ['x1','x2','x3','x4', 'label']\n",
    "data['label'] = data['label'].astype('int32')\n",
    "\n",
    "df_train = data.iloc[:1000,:]\n",
    "df_test = data"
   ]
  },
  {
   "cell_type": "code",
   "execution_count": 5,
   "metadata": {},
   "outputs": [],
   "source": [
    "# create validation set\n",
    "x1 = np.random.uniform(0,1,2000)\n",
    "x2 = np.random.uniform(0,1,2000)\n",
    "x3 = np.random.uniform(0,1,2000)\n",
    "x4 = np.random.uniform(0,1,2000)\n",
    "y= np.where(x2 < np.sin(x1), np.ones(2000, dtype=np.int8), np.zeros(2000, dtype=np.int8))\n",
    "\n",
    "#Drift (zuvor 3)\n",
    "x1[500:1500]=np.random.uniform(-1,0,1000)\n",
    "x2[500:1500]=np.random.uniform(-1,0,1000)\n",
    "y[500:1500]= np.where(x2[500:1500] > np.sin(x1[500:1500]), np.ones(1000, dtype=np.int8), np.zeros(1000, dtype=np.int8))\n",
    "\n",
    "df_val = pd.DataFrame([x1,x2,x3,x4,y]).transpose()\n",
    "df_val.columns = ['x1','x2','x3','x4', 'label']\n",
    "df_val['label'] = df_val['label'].astype('int32')"
   ]
  },
  {
   "cell_type": "code",
   "execution_count": 6,
   "metadata": {},
   "outputs": [],
   "source": [
    "df_train_and_validate = df_train.append(df_val)"
   ]
  },
  {
   "cell_type": "code",
   "execution_count": 7,
   "metadata": {
    "pycharm": {
     "is_executing": false
    }
   },
   "outputs": [],
   "source": [
    "df_train_and_validate.to_csv('../../Experiment/Data_prep/own_synthetic/sine_train_val.csv', index=False)\n",
    "df_test.to_csv('../../Experiment/Data_prep/own_synthetic/sine_train_test.csv', index=False)"
   ]
  },
  {
   "cell_type": "code",
   "execution_count": null,
   "metadata": {},
   "outputs": [],
   "source": []
  }
 ],
 "metadata": {
  "kernelspec": {
   "display_name": "Python 3",
   "language": "python",
   "name": "python3"
  },
  "language_info": {
   "codemirror_mode": {
    "name": "ipython",
    "version": 3
   },
   "file_extension": ".py",
   "mimetype": "text/x-python",
   "name": "python",
   "nbconvert_exporter": "python",
   "pygments_lexer": "ipython3",
   "version": "3.8.3"
  },
  "pycharm": {
   "stem_cell": {
    "cell_type": "raw",
    "metadata": {
     "collapsed": false
    },
    "source": []
   }
  }
 },
 "nbformat": 4,
 "nbformat_minor": 4
}
